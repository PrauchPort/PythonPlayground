{
 "cells": [
  {
   "cell_type": "markdown",
   "metadata": {},
   "source": [
    "### 19 exercises from https://www.w3resource.com/python-exercises/lambda/index.php"
   ]
  },
  {
   "cell_type": "markdown",
   "metadata": {},
   "source": [
    "#### 1. Write a Python program to create a lambda function that adds 15 to a given number passed in as an argument, also create a lambda function that multiplies argument x with argument y and print the result."
   ]
  },
  {
   "cell_type": "code",
   "execution_count": 8,
   "metadata": {},
   "outputs": [
    {
     "name": "stdout",
     "output_type": "stream",
     "text": [
      "17\n",
      "10\n",
      "12\n",
      "27\n"
     ]
    }
   ],
   "source": [
    "add_15 = lambda x : x + 15\n",
    "\n",
    "print(add_15(2))\n",
    "print(add_15(-5))\n",
    "\n",
    "mult = lambda x, y : x * y\n",
    "    \n",
    "print(mult(2, 6))\n",
    "print(mult(3, 9))"
   ]
  },
  {
   "cell_type": "markdown",
   "metadata": {},
   "source": [
    "#### 2. Write a Python program to create a function that takes one argument, and that argument will be multiplied with an unknown given number."
   ]
  },
  {
   "cell_type": "code",
   "execution_count": 15,
   "metadata": {},
   "outputs": [
    {
     "name": "stdout",
     "output_type": "stream",
     "text": [
      "2\n",
      "10\n",
      "12\n",
      "Second solution: \n",
      "4\n",
      "8\n",
      "12\n"
     ]
    }
   ],
   "source": [
    "import random\n",
    "\n",
    "mult_random = lambda x : x * random.randint(1, 10)\n",
    "\n",
    "print(mult_random(2))\n",
    "print(mult_random(2))\n",
    "print(mult_random(2))\n",
    "\n",
    "\n",
    "print(\"Second solution: \")\n",
    "def mult_random_by(n):\n",
    "    return lambda x : x * n\n",
    "\n",
    "result = mult_random_by(4)\n",
    "\n",
    "print(result(1))\n",
    "print(result(2))\n",
    "print(result(3))"
   ]
  },
  {
   "cell_type": "markdown",
   "metadata": {},
   "source": [
    "#### 3. Write a Python program to sort a list of tuples using Lambda."
   ]
  },
  {
   "cell_type": "code",
   "execution_count": 27,
   "metadata": {},
   "outputs": [
    {
     "name": "stdout",
     "output_type": "stream",
     "text": [
      "[(0, 2), (2, 3, 1), (4, 5), (5, 4), (9, 1, 10)]\n",
      "Second solution: sort by second element (position '1')\n",
      "[(9, 1, 10), (0, 2), (2, 3, 1), (5, 4), (4, 5)]\n"
     ]
    }
   ],
   "source": [
    "tup_list = [(4, 5), (2, 3, 1), (9, 1, 10), (5, 4), (0, 2)]\n",
    "\n",
    "sort_tup_list = lambda x : sorted(x)\n",
    "\n",
    "print(sort_tup_list(tup_list))\n",
    "\n",
    "print(\"Second solution: sort by second element (position '1')\")\n",
    "\n",
    "tup_list.sort(key = lambda x : x[1])\n",
    "\n",
    "print(tup_list)"
   ]
  },
  {
   "cell_type": "markdown",
   "metadata": {},
   "source": [
    "#### 4. Write a Python program to sort a list of dictionaries using Lambda."
   ]
  },
  {
   "cell_type": "code",
   "execution_count": null,
   "metadata": {},
   "outputs": [],
   "source": []
  },
  {
   "cell_type": "code",
   "execution_count": null,
   "metadata": {},
   "outputs": [],
   "source": []
  },
  {
   "cell_type": "code",
   "execution_count": null,
   "metadata": {},
   "outputs": [],
   "source": []
  }
 ],
 "metadata": {
  "kernelspec": {
   "display_name": "Python 3",
   "language": "python",
   "name": "python3"
  },
  "language_info": {
   "codemirror_mode": {
    "name": "ipython",
    "version": 3
   },
   "file_extension": ".py",
   "mimetype": "text/x-python",
   "name": "python",
   "nbconvert_exporter": "python",
   "pygments_lexer": "ipython3",
   "version": "3.6.10"
  }
 },
 "nbformat": 4,
 "nbformat_minor": 4
}
