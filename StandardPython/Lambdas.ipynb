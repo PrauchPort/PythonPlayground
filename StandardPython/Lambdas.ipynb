{
 "cells": [
  {
   "cell_type": "markdown",
   "metadata": {},
   "source": [
    "### 19 exercises from https://www.w3resource.com/python-exercises/lambda/index.php"
   ]
  },
  {
   "cell_type": "markdown",
   "metadata": {},
   "source": [
    "#### 1. Write a Python program to create a lambda function that adds 15 to a given number passed in as an argument, also create a lambda function that multiplies argument x with argument y and print the result."
   ]
  },
  {
   "cell_type": "code",
   "execution_count": 8,
   "metadata": {},
   "outputs": [
    {
     "name": "stdout",
     "output_type": "stream",
     "text": [
      "17\n",
      "10\n",
      "12\n",
      "27\n"
     ]
    }
   ],
   "source": [
    "add_15 = lambda x : x + 15\n",
    "\n",
    "print(add_15(2))\n",
    "print(add_15(-5))\n",
    "\n",
    "mult = lambda x, y : x * y\n",
    "    \n",
    "print(mult(2, 6))\n",
    "print(mult(3, 9))"
   ]
  },
  {
   "cell_type": "markdown",
   "metadata": {},
   "source": [
    "#### 2. Write a Python program to create a function that takes one argument, and that argument will be multiplied with an unknown given number."
   ]
  },
  {
   "cell_type": "code",
   "execution_count": 15,
   "metadata": {},
   "outputs": [
    {
     "name": "stdout",
     "output_type": "stream",
     "text": [
      "2\n",
      "10\n",
      "12\n",
      "Second solution: \n",
      "4\n",
      "8\n",
      "12\n"
     ]
    }
   ],
   "source": [
    "import random\n",
    "\n",
    "mult_random = lambda x : x * random.randint(1, 10)\n",
    "\n",
    "print(mult_random(2))\n",
    "print(mult_random(2))\n",
    "print(mult_random(2))\n",
    "\n",
    "\n",
    "print(\"Second solution: \")\n",
    "def mult_random_by(n):\n",
    "    return lambda x : x * n\n",
    "\n",
    "result = mult_random_by(4)\n",
    "\n",
    "print(result(1))\n",
    "print(result(2))\n",
    "print(result(3))"
   ]
  },
  {
   "cell_type": "markdown",
   "metadata": {},
   "source": [
    "#### 3. Write a Python program to sort a list of tuples using Lambda."
   ]
  },
  {
   "cell_type": "code",
   "execution_count": 27,
   "metadata": {},
   "outputs": [
    {
     "name": "stdout",
     "output_type": "stream",
     "text": [
      "[(0, 2), (2, 3, 1), (4, 5), (5, 4), (9, 1, 10)]\n",
      "Second solution: sort by second element (position '1')\n",
      "[(9, 1, 10), (0, 2), (2, 3, 1), (5, 4), (4, 5)]\n"
     ]
    }
   ],
   "source": [
    "tup_list = [(4, 5), (2, 3, 1), (9, 1, 10), (5, 4), (0, 2)]\n",
    "\n",
    "sort_tup_list = lambda x : sorted(x)\n",
    "\n",
    "print(sort_tup_list(tup_list))\n",
    "\n",
    "print(\"Second solution: sort by second element (position '1')\")\n",
    "\n",
    "tup_list.sort(key = lambda x : x[1])\n",
    "\n",
    "print(tup_list)"
   ]
  },
  {
   "cell_type": "markdown",
   "metadata": {},
   "source": [
    "#### 4. Write a Python program to sort a list of dictionaries using Lambda."
   ]
  },
  {
   "cell_type": "code",
   "execution_count": 1,
   "metadata": {},
   "outputs": [
    {
     "name": "stdout",
     "output_type": "stream",
     "text": [
      "[{'name': 'AL', 'surname': 'Pacino', 'occupation': 'actor'}, {'name': 'Lionel', 'surname': 'Messi', 'occupation': 'football player'}, {'name': 'Jimi', 'surname': 'Hendrix', 'occupation': 'guitarist'}, {'name': 'Bill', 'surname': 'Clinton', 'occupation': 'president'}]\n"
     ]
    }
   ],
   "source": [
    "dict_list = [{\"name\" : \"Bill\", \"surname\" : \"Clinton\", \"occupation\" : \"president\"},\n",
    "            {\"name\" : \"AL\", \"surname\" : \"Pacino\", \"occupation\" : \"actor\"},\n",
    "            {\"name\" : \"Jimi\", \"surname\" : \"Hendrix\", \"occupation\" : \"guitarist\"},\n",
    "            {\"name\" : \"Lionel\", \"surname\" : \"Messi\", \"occupation\" : \"football player\"}]\n",
    "\n",
    "\n",
    "\n",
    "sorted_dict_list = sorted(dict_list, key = lambda x : x['occupation'])\n",
    "\n",
    "print(sorted_dict_list)\n"
   ]
  },
  {
   "cell_type": "markdown",
   "metadata": {},
   "source": [
    "#### 5. Write a Python program to filter a list of integers using Lambda."
   ]
  },
  {
   "cell_type": "code",
   "execution_count": 4,
   "metadata": {},
   "outputs": [
    {
     "name": "stdout",
     "output_type": "stream",
     "text": [
      "[25, 23, 21, 23, 31, 16, 30]\n"
     ]
    }
   ],
   "source": [
    "int_list = [ 25, 12, 15, 1, 3, 2, 7, 23, 21, 23, 31, 16, 9, 30]\n",
    "\n",
    "greater_than_15 = list(filter(lambda x: x>15, int_list))\n",
    "\n",
    "print(greater_than_15)"
   ]
  },
  {
   "cell_type": "markdown",
   "metadata": {},
   "source": [
    "#### 6. Write a Python program to square and cube every number in a given list of integers using Lambda."
   ]
  },
  {
   "cell_type": "code",
   "execution_count": 7,
   "metadata": {},
   "outputs": [
    {
     "name": "stdout",
     "output_type": "stream",
     "text": [
      "[16, 64, 4, 49, 1, 81, 49, 9, 36, 25]\n",
      "[64, 512, 8, 343, 1, 729, 343, 27, 216, 125]\n"
     ]
    }
   ],
   "source": [
    "int_list = [4, 8, 2, 7, 1, 9, 7, 3, 6, 5]\n",
    "\n",
    "squared = list(map(lambda x : x**2, int_list))\n",
    "\n",
    "print(squared)\n",
    "\n",
    "cubed = list(map(lambda x : x**3, int_list))\n",
    "\n",
    "print(cubed)"
   ]
  },
  {
   "cell_type": "markdown",
   "metadata": {},
   "source": [
    "#### 7. Write a Python program to find if a given string starts with a given character using Lambda. "
   ]
  },
  {
   "cell_type": "code",
   "execution_count": 12,
   "metadata": {},
   "outputs": [
    {
     "name": "stdout",
     "output_type": "stream",
     "text": [
      "True\n",
      "False\n"
     ]
    }
   ],
   "source": [
    "str_list = [\"foo\", \"bar\", \"car\", \"function\", \"string\"]\n",
    "\n",
    "starts_with = lambda x, y : True if x.startswith(y) else False\n",
    "\n",
    "starts_with_c = lambda x : True if x.startswith(\"x\") else False\n",
    "\n",
    "print(starts_with(\"Foo\", \"F\"))\n",
    "print(starts_with(\"Foo\", \"C\"))"
   ]
  },
  {
   "cell_type": "markdown",
   "metadata": {},
   "source": [
    "#### 8. Write a Python program to extract year, month, date and time using Lambda."
   ]
  },
  {
   "cell_type": "code",
   "execution_count": 16,
   "metadata": {},
   "outputs": [
    {
     "name": "stdout",
     "output_type": "stream",
     "text": [
      "20/3/2020 at 08:22:05.094533\n"
     ]
    }
   ],
   "source": [
    "import datetime\n",
    "\n",
    "now = datetime.datetime.now()\n",
    "\n",
    "day = lambda x : x.day\n",
    "month = lambda x : x.month\n",
    "year = lambda x : x.year\n",
    "\n",
    "time = lambda x : x.time()\n",
    "\n",
    "print(f\"{day(now)}/{month(now)}/{year(now)} at {time(now)}\")"
   ]
  },
  {
   "cell_type": "markdown",
   "metadata": {},
   "source": [
    "#### 9. Write a Python program to check whether a given string is number or not using Lambda."
   ]
  },
  {
   "cell_type": "code",
   "execution_count": 17,
   "metadata": {},
   "outputs": [
    {
     "name": "stdout",
     "output_type": "stream",
     "text": [
      "False\n",
      "False\n",
      "False\n",
      "True\n",
      "False\n"
     ]
    }
   ],
   "source": [
    "is_num = lambda s : s.replace('.', '', 1).isdigit()\n",
    "\n",
    "print(is_num(\"AAAA\"))\n",
    "print(is_num(\"-5.1\"))\n",
    "print(is_num(\"1.2.3\"))\n",
    "print(is_num(\"754\"))\n",
    "print(is_num(\"98a3\"))"
   ]
  },
  {
   "cell_type": "markdown",
   "metadata": {},
   "source": [
    "#### 10. Write a Python program to create Fibonacci series upto n using Lambda."
   ]
  },
  {
   "cell_type": "markdown",
   "metadata": {},
   "source": [
    "TODO"
   ]
  },
  {
   "cell_type": "markdown",
   "metadata": {},
   "source": [
    "#### 11. Write a Python program to find intersection of two given arrays using Lambda."
   ]
  },
  {
   "cell_type": "code",
   "execution_count": 26,
   "metadata": {},
   "outputs": [],
   "source": [
    "list1 = [1, 2, 4, 6]\n",
    "list2 = [2, 6, 7]\n",
    "\n",
    "intersection = lambda l1, l2: list(filter(lambda x: x in l2, l1))"
   ]
  },
  {
   "cell_type": "code",
   "execution_count": 27,
   "metadata": {},
   "outputs": [
    {
     "data": {
      "text/plain": [
       "[2, 6]"
      ]
     },
     "execution_count": 27,
     "metadata": {},
     "output_type": "execute_result"
    }
   ],
   "source": [
    "intersection(list1, list2)"
   ]
  },
  {
   "cell_type": "markdown",
   "metadata": {},
   "source": []
  },
  {
   "cell_type": "code",
   "execution_count": null,
   "metadata": {},
   "outputs": [],
   "source": []
  },
  {
   "cell_type": "code",
   "execution_count": null,
   "metadata": {},
   "outputs": [],
   "source": []
  },
  {
   "cell_type": "code",
   "execution_count": null,
   "metadata": {},
   "outputs": [],
   "source": []
  },
  {
   "cell_type": "code",
   "execution_count": null,
   "metadata": {},
   "outputs": [],
   "source": []
  },
  {
   "cell_type": "code",
   "execution_count": null,
   "metadata": {},
   "outputs": [],
   "source": []
  },
  {
   "cell_type": "code",
   "execution_count": null,
   "metadata": {},
   "outputs": [],
   "source": []
  },
  {
   "cell_type": "code",
   "execution_count": null,
   "metadata": {},
   "outputs": [],
   "source": []
  }
 ],
 "metadata": {
  "kernelspec": {
   "display_name": "Python 3",
   "language": "python",
   "name": "python3"
  },
  "language_info": {
   "codemirror_mode": {
    "name": "ipython",
    "version": 3
   },
   "file_extension": ".py",
   "mimetype": "text/x-python",
   "name": "python",
   "nbconvert_exporter": "python",
   "pygments_lexer": "ipython3",
   "version": "3.6.10"
  }
 },
 "nbformat": 4,
 "nbformat_minor": 4
}
